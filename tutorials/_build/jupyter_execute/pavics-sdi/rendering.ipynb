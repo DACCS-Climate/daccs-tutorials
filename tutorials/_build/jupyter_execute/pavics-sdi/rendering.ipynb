{
 "cells": [
  {
   "cell_type": "markdown",
   "metadata": {},
   "source": [
    "## Gridded Data Renderer\n",
    "\n",
    "PAVICS uses THREDDS WMS service to render netCDF data on a map canvas. The WMS `GetMap` operation passers the layer identification (`<variable name>`), styles, figure size and format, projection and color range and the server returns an image that can be displayed in a figure or a map canvas. "
   ]
  },
  {
   "cell_type": "code",
   "execution_count": 1,
   "metadata": {},
   "outputs": [
    {
     "ename": "ModuleNotFoundError",
     "evalue": "No module named 'owslib'",
     "output_type": "error",
     "traceback": [
      "\u001b[0;31m---------------------------------------------------------------------------\u001b[0m",
      "\u001b[0;31mModuleNotFoundError\u001b[0m                       Traceback (most recent call last)",
      "Cell \u001b[0;32mIn[1], line 2\u001b[0m\n\u001b[1;32m      1\u001b[0m \u001b[38;5;28;01mfrom\u001b[39;00m \u001b[38;5;21;01mIPython\u001b[39;00m\u001b[38;5;21;01m.\u001b[39;00m\u001b[38;5;21;01mdisplay\u001b[39;00m \u001b[38;5;28;01mimport\u001b[39;00m Image\n\u001b[0;32m----> 2\u001b[0m \u001b[38;5;28;01mfrom\u001b[39;00m \u001b[38;5;21;01mowslib\u001b[39;00m\u001b[38;5;21;01m.\u001b[39;00m\u001b[38;5;21;01mwms\u001b[39;00m \u001b[38;5;28;01mimport\u001b[39;00m WebMapService\n\u001b[1;32m      4\u001b[0m server \u001b[38;5;241m=\u001b[39m \u001b[38;5;124m\"\u001b[39m\u001b[38;5;124mhttps://pavics.ouranos.ca/twitcher/ows/proxy/thredds/\u001b[39m\u001b[38;5;124m\"\u001b[39m\n\u001b[1;32m      5\u001b[0m path \u001b[38;5;241m=\u001b[39m \u001b[38;5;124m\"\u001b[39m\u001b[38;5;124m/birdhouse/testdata/flyingpigeon/cmip5/tasmax_Amon_MPI-ESM-MR_rcp45_r2i1p1_200601-200612.nc\u001b[39m\u001b[38;5;124m\"\u001b[39m\n",
      "\u001b[0;31mModuleNotFoundError\u001b[0m: No module named 'owslib'"
     ]
    }
   ],
   "source": [
    "from IPython.display import Image\n",
    "from owslib.wms import WebMapService\n",
    "\n",
    "server = \"https://pavics.ouranos.ca/twitcher/ows/proxy/thredds/\"\n",
    "path = \"/birdhouse/testdata/flyingpigeon/cmip5/tasmax_Amon_MPI-ESM-MR_rcp45_r2i1p1_200601-200612.nc\"\n",
    "wms = WebMapService(server + \"wms\" + path, version=\"1.3.0\")\n",
    "resp = wms.getmap(\n",
    "    layers=[\"tasmax\"],\n",
    "    format=\"image/png\",\n",
    "    colorscalerange=f\"{250},{350}\",\n",
    "    size=[256, 256],\n",
    "    srs=\"CRS:84\",\n",
    "    bbox=(150, 30, 250, 80),\n",
    "    time=\"2006-02-15\",\n",
    "    transparent=True,\n",
    ")\n",
    "Image(resp.read())"
   ]
  },
  {
   "cell_type": "markdown",
   "metadata": {},
   "source": [
    "One issue with the figure above is the colorscale range and the colormap, which do not provide a lot of contrast. So lets get a copy of the data using the OPeNDAP protocol to find the actual minimum and maximum values. "
   ]
  },
  {
   "cell_type": "code",
   "execution_count": 2,
   "metadata": {},
   "outputs": [
    {
     "data": {
      "text/plain": [
       "(235.5495147705078, 306.79168701171875)"
      ]
     },
     "execution_count": 2,
     "metadata": {},
     "output_type": "execute_result"
    }
   ],
   "source": [
    "import xarray as xr\n",
    "\n",
    "ds = xr.open_dataset(server + \"dodsC\" + path)\n",
    "subtas = ds.tasmax.sel(\n",
    "    time=slice(\"2006-02-01\", \"2006-03-01\"), lon=slice(188, 330), lat=slice(6, 70)\n",
    ")\n",
    "mn, mx = subtas.min().values.tolist(), subtas.max().values.tolist()\n",
    "mn, mx"
   ]
  },
  {
   "cell_type": "markdown",
   "metadata": {},
   "source": [
    "Now we'll simply pass those min/max to `getmap` with the colorscalerange parameter, and change the palette in the same go using the `styles` parameter. The supported styles are stored in the layer's metadata."
   ]
  },
  {
   "cell_type": "code",
   "execution_count": 3,
   "metadata": {},
   "outputs": [
    {
     "data": {
      "text/plain": [
       "['boxfill/alg',\n",
       " 'boxfill/alg2',\n",
       " 'boxfill/ferret',\n",
       " 'boxfill/greyscale',\n",
       " 'boxfill/ncview',\n",
       " 'boxfill/occam',\n",
       " 'boxfill/occam_pastel-30',\n",
       " 'boxfill/rainbow',\n",
       " 'boxfill/redblue',\n",
       " 'boxfill/sst_36']"
      ]
     },
     "execution_count": 3,
     "metadata": {},
     "output_type": "execute_result"
    }
   ],
   "source": [
    "sorted(wms.contents[\"tasmax\"].styles.keys())"
   ]
  },
  {
   "cell_type": "code",
   "execution_count": 4,
   "metadata": {},
   "outputs": [
    {
     "data": {
      "image/png": "[encoded data removed]",
      "text/plain": [
       "<IPython.core.display.Image object>"
      ]
     },
     "execution_count": 4,
     "metadata": {},
     "output_type": "execute_result"
    }
   ],
   "source": [
    "resp = wms.getmap(\n",
    "    layers=[\"tasmax\"],\n",
    "    styles=[\"boxfill/occam\"],\n",
    "    format=\"image/png\",\n",
    "    colorscalerange=f\"{mn},{mx}\",\n",
    "    size=[256, 256],\n",
    "    srs=\"CRS:84\",\n",
    "    bbox=(150, 30, 250, 80),\n",
    "    time=\"2006-02-15\",\n",
    "    transparent=True,\n",
    ")\n",
    "Image(resp.read())"
   ]
  }
 ],
 "metadata": {
  "kernelspec": {
   "display_name": "Python 3",
   "language": "python",
   "name": "python3"
  },
  "language_info": {
   "codemirror_mode": {
    "name": "ipython",
    "version": 3
   },
   "file_extension": ".py",
   "mimetype": "text/x-python",
   "name": "python",
   "nbconvert_exporter": "python",
   "pygments_lexer": "ipython3",
   "version": "3.11.2"
  }
 },
 "nbformat": 4,
 "nbformat_minor": 2
}